{
 "cells": [
  {
   "cell_type": "code",
   "execution_count": 6,
   "id": "0591a303",
   "metadata": {},
   "outputs": [],
   "source": [
    "import os\n",
    "\n",
    "from google import genai\n",
    "from google.genai import types "
   ]
  },
  {
   "cell_type": "code",
   "execution_count": 8,
   "id": "b7d9c38e",
   "metadata": {},
   "outputs": [],
   "source": [
    "GOOGLE_API_KEY = os.getenv(\"GOOGLE_API_KEY\")\n",
    "client = genai.Client(api_key=GOOGLE_API_KEY)"
   ]
  },
  {
   "cell_type": "markdown",
   "id": "80221e3c",
   "metadata": {},
   "source": [
    "# Schema Function Declaration"
   ]
  },
  {
   "cell_type": "code",
   "execution_count": 9,
   "id": "06a2109c",
   "metadata": {},
   "outputs": [],
   "source": [
    "CREATE_LEAD_FUNCTION = {\n",
    "    \"name\": \"create_lead\",\n",
    "    \"description\": \"Tạo lead mới trong hệ thống CRM\",\n",
    "    \"parameters\": {\n",
    "        \"type\": \"object\",\n",
    "        \"properties\": {\n",
    "            \"lead_name\": {\n",
    "                \"type\": \"string\",\n",
    "                \"description\": \"Tên đầy đủ của lead\"\n",
    "            },\n",
    "            \"email\": {\n",
    "                \"type\": \"string\",\n",
    "                \"description\": \"Email liên hệ\"\n",
    "            },\n",
    "            \"phone\": {\n",
    "                \"type\": \"string\",\n",
    "                \"description\": \"Số điện thoại liên hệ\"\n",
    "            },\n",
    "            \"company\": {\n",
    "                \"type\": \"string\",\n",
    "                \"description\": \"Tên công ty\"\n",
    "            }\n",
    "        },\n",
    "        \"required\": [\"lead_name\", \"email\"]\n",
    "    }\n",
    "}"
   ]
  },
  {
   "cell_type": "markdown",
   "id": "46849b71",
   "metadata": {},
   "source": [
    "# Configure tools"
   ]
  },
  {
   "cell_type": "code",
   "execution_count": 16,
   "id": "986fa9e6",
   "metadata": {},
   "outputs": [],
   "source": [
    "tools = types.Tool(function_declarations=[CREATE_LEAD_FUNCTION])\n",
    "config = types.GenerateContentConfig(\n",
    "    tools=[tools],\n",
    "    automatic_function_calling=types.AutomaticFunctionCallingConfig(\n",
    "        disable=False,\n",
    "    ),\n",
    "    tool_config=types.ToolConfig(\n",
    "        function_calling_config=types.FunctionCallingConfig(\n",
    "            # max_tokens=1024,\n",
    "            # temperature=0.7,\n",
    "            mode='ANY'\n",
    "        )\n",
    "    )\n",
    ")"
   ]
  },
  {
   "cell_type": "markdown",
   "id": "14dfcd83",
   "metadata": {},
   "source": [
    "# Prompt"
   ]
  },
  {
   "cell_type": "code",
   "execution_count": 12,
   "id": "a9a919b7",
   "metadata": {},
   "outputs": [],
   "source": [
    "contents = [\n",
    "    types.Content(\n",
    "        role=\"user\",\n",
    "        parts=[\n",
    "            types.Part(\n",
    "                text=\"Create a new Lead with name Alex Dane, email alex.dane@example.com, phone 123456789, company Example Corp\"\n",
    "            )\n",
    "        ]\n",
    "    )\n",
    "]"
   ]
  },
  {
   "cell_type": "code",
   "execution_count": 13,
   "id": "046672d7",
   "metadata": {},
   "outputs": [],
   "source": [
    "response = client.models.generate_content(\n",
    "    model=\"gemini-1.5-flash\",\n",
    "    contents=contents,\n",
    "    config=config\n",
    ")"
   ]
  },
  {
   "cell_type": "markdown",
   "id": "190bb22c",
   "metadata": {},
   "source": [
    "# Function call"
   ]
  },
  {
   "cell_type": "code",
   "execution_count": 14,
   "id": "e7ba9000",
   "metadata": {},
   "outputs": [
    {
     "data": {
      "text/plain": [
       "Part(\n",
       "  function_call=FunctionCall(\n",
       "    args={\n",
       "      'company': 'Example Corp',\n",
       "      'email': 'alex.dane@example.com',\n",
       "      'lead_name': 'Alex Dane',\n",
       "      'phone': '123456789'\n",
       "    },\n",
       "    name='create_lead'\n",
       "  )\n",
       ")"
      ]
     },
     "execution_count": 14,
     "metadata": {},
     "output_type": "execute_result"
    }
   ],
   "source": [
    "part = response.candidates[0].content.parts[0]\n",
    "part"
   ]
  },
  {
   "cell_type": "code",
   "execution_count": 15,
   "id": "33d013bd",
   "metadata": {},
   "outputs": [
    {
     "name": "stdout",
     "output_type": "stream",
     "text": [
      "Function call detected: create_lead with arguments: {'company': 'Example Corp', 'phone': '123456789', 'lead_name': 'Alex Dane', 'email': 'alex.dane@example.com'}\n",
      "API call result: {'status': 'success', 'lead': {'name': 'Alex Dane', 'email': 'alex.dane@example.com', 'phone': '123456789', 'company': 'Example Corp'}}\n",
      "Final response: OK. I've created a lead named Alex Dane from Example Corp with the email address alex.dane@example.com and phone number 123456789. Is there anything else I can help with?\n",
      "\n"
     ]
    }
   ],
   "source": [
    "if hasattr(part, 'function_call') and part.function_call:\n",
    "    fc_name = part.function_call.name\n",
    "    args = part.function_call.args\n",
    "\n",
    "    print(f\"Function call detected: {fc_name} with arguments: {args}\")\n",
    "\n",
    "    # Mock API\n",
    "    def create_lead(lead_name: str, email: str, phone: str = None, company: str = None):\n",
    "        return {\n",
    "            \"status\": \"success\",\n",
    "            \"lead\": {\n",
    "                \"name\": lead_name,\n",
    "                \"email\": email,\n",
    "                \"phone\": phone,\n",
    "                \"company\": company\n",
    "            }\n",
    "        }\n",
    "    \n",
    "    result = create_lead(**args)\n",
    "    print(f\"API call result: {result}\")\n",
    "\n",
    "    function_response_part = types.Part.from_function_response(\n",
    "        name=fc_name,\n",
    "        response={\"result\": result}\n",
    "    )\n",
    "\n",
    "    final_content = [\n",
    "        response.candidates[0].content,\n",
    "        types.Content(\n",
    "            role=\"user\",\n",
    "            parts=[function_response_part]\n",
    "        )\n",
    "    ]\n",
    "\n",
    "    final_response = client.models.generate_content(\n",
    "        model=\"gemini-1.5-flash\",\n",
    "        config=config,\n",
    "        contents=final_content\n",
    "    )\n",
    "\n",
    "    print(f\"Final response: {final_response.text}\")\n",
    "else:\n",
    "    print(\"No function call detected.\")"
   ]
  },
  {
   "cell_type": "code",
   "execution_count": null,
   "id": "dc21c1a6",
   "metadata": {},
   "outputs": [],
   "source": []
  },
  {
   "cell_type": "code",
   "execution_count": null,
   "id": "707dbbf7",
   "metadata": {},
   "outputs": [],
   "source": []
  },
  {
   "cell_type": "code",
   "execution_count": null,
   "id": "eec9a56b",
   "metadata": {},
   "outputs": [],
   "source": []
  },
  {
   "cell_type": "code",
   "execution_count": null,
   "id": "1b0bc1a5",
   "metadata": {},
   "outputs": [],
   "source": []
  },
  {
   "cell_type": "code",
   "execution_count": null,
   "id": "2fa71ddc",
   "metadata": {},
   "outputs": [],
   "source": []
  },
  {
   "cell_type": "code",
   "execution_count": null,
   "id": "a5167f86",
   "metadata": {},
   "outputs": [],
   "source": []
  },
  {
   "cell_type": "code",
   "execution_count": null,
   "id": "55937225",
   "metadata": {},
   "outputs": [],
   "source": []
  },
  {
   "cell_type": "code",
   "execution_count": null,
   "id": "831417d8",
   "metadata": {},
   "outputs": [],
   "source": []
  }
 ],
 "metadata": {
  "kernelspec": {
   "display_name": "skymap",
   "language": "python",
   "name": "python3"
  },
  "language_info": {
   "codemirror_mode": {
    "name": "ipython",
    "version": 3
   },
   "file_extension": ".py",
   "mimetype": "text/x-python",
   "name": "python",
   "nbconvert_exporter": "python",
   "pygments_lexer": "ipython3",
   "version": "3.11.13"
  }
 },
 "nbformat": 4,
 "nbformat_minor": 5
}
