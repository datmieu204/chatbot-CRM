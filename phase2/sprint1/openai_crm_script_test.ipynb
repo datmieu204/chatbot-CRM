{
 "cells": [
  {
   "cell_type": "markdown",
   "id": "2bc6191d",
   "metadata": {},
   "source": [
    "# Library"
   ]
  },
  {
   "cell_type": "code",
   "execution_count": 12,
   "id": "fd9a87c4",
   "metadata": {},
   "outputs": [
    {
     "data": {
      "text/plain": [
       "True"
      ]
     },
     "execution_count": 12,
     "metadata": {},
     "output_type": "execute_result"
    }
   ],
   "source": [
    "import os\n",
    "import json\n",
    "import time\n",
    "\n",
    "from dotenv import load_dotenv\n",
    "from typing import Optional, Dict, Any\n",
    "from pydantic import BaseModel, EmailStr, ValidationError\n",
    "from openai import OpenAI\n",
    "\n",
    "load_dotenv()"
   ]
  },
  {
   "cell_type": "code",
   "execution_count": 4,
   "id": "fbe2e94f",
   "metadata": {},
   "outputs": [],
   "source": [
    "OPENAI_API_KEY = os.getenv(\"OPENAI_API_KEY\")"
   ]
  },
  {
   "cell_type": "code",
   "execution_count": 5,
   "id": "801e21ac",
   "metadata": {},
   "outputs": [
    {
     "data": {
      "text/plain": [
       "<openai.OpenAI at 0x2c9398604d0>"
      ]
     },
     "execution_count": 5,
     "metadata": {},
     "output_type": "execute_result"
    }
   ],
   "source": [
    "client = OpenAI(api_key=OPENAI_API_KEY)\n",
    "client"
   ]
  },
  {
   "cell_type": "code",
   "execution_count": 13,
   "id": "b411ef1f",
   "metadata": {},
   "outputs": [],
   "source": [
    "class Lead(BaseModel):\n",
    "    name: str\n",
    "    email: EmailStr\n",
    "    phone: Optional[str] = None\n",
    "    company: Optional[str] = None\n",
    "    notes: Optional[str] = None"
   ]
  },
  {
   "cell_type": "code",
   "execution_count": null,
   "id": "de8224ea",
   "metadata": {},
   "outputs": [],
   "source": [
    "CREATE_LEAD_SCHEMA = {\n",
    "    \"type\": \"function\",\n",
    "    \"name\": \"create_lead\",\n",
    "    \"description\": \"Any new lead that is created in the CRM\",\n",
    "    \"parameters\": {\n",
    "        \"type\": \"object\",\n",
    "        \"properties\": {\n",
    "            \"name\": {\n",
    "                \"type\": \"string\",\n",
    "                \"description\": \"The name of the lead\"\n",
    "            },\n",
    "            \"email\": {\n",
    "                \"type\": \"string\",\n",
    "                \"format\": \"email\",\n",
    "                \"description\": \"The email address of the lead\"  \n",
    "            },\n",
    "            \"phone\": {\n",
    "                \"type\": [\"string\", \"null\"],\n",
    "                \"description\": \"The phone number of the lead\"\n",
    "            },\n",
    "            \"company\": {\n",
    "                \"type\": [\"string\", \"null\"],\n",
    "                \"description\": \"The company of the lead\"\n",
    "            },\n",
    "            \"notes\": {\n",
    "                \"type\": [\"string\", \"null\"],\n",
    "                \"description\": \"Any additional notes about the lead\"\n",
    "            }\n",
    "        },\n",
    "        \"required\": [\"name\", \"email\"],\n",
    "        \"additionalProperties\": False\n",
    "    },\n",
    "    \"strict\": True\n",
    "}"
   ]
  },
  {
   "cell_type": "code",
   "execution_count": 31,
   "id": "09bac442",
   "metadata": {},
   "outputs": [],
   "source": [
    "PROMPT_CREATE_LEAD = \"\"\"\n",
    "You are an assistant of a CRM system. Your task is to help users create new leads by providing the necessary information and guidance.\n",
    "Return a JSON following the lead_schema, do not include any additional information or context.\n",
    "If the user provides all the required information, create the lead. If any information is missing, prompt the user to provide the missing information.\n",
    "\"\"\""
   ]
  },
  {
   "cell_type": "code",
   "execution_count": null,
   "id": "994befa7",
   "metadata": {},
   "outputs": [],
   "source": [
    "def call_llm_with_retry(\n",
    "    prompt: str,\n",
    "    schema: Dict[str, Any],\n",
    "    validator: Optional[Any] = None,\n",
    "    max_retries: int = 3,\n",
    "    retry_delay: float = 1.0,\n",
    "    **kwargs: Any\n",
    ") -> BaseModel: \n",
    "\n",
    "    for attempt in range(max_retries):\n",
    "        try:\n",
    "            response = client.chat.completions.create(\n",
    "                model=\"gpt-4o-mini\",\n",
    "                messages=[\n",
    "                    {\"role\": \"user\", \"content\": prompt},\n",
    "                    {\"role\": \"system\", \"content\": \"You are a helpful assistant.\"}\n",
    "                ],\n",
    "                functions=[schema],\n",
    "                function_call={\"name\": schema[\"name\"]},\n",
    "                **kwargs\n",
    "            )\n",
    "            response_message = response.choices[0].message\n",
    "            if response_message.function_call:\n",
    "                function_args = json.loads(response_message.function_call.arguments)\n",
    "\n",
    "                if validator:\n",
    "                    obj = validator(**function_args)\n",
    "                    return obj\n",
    "                else:\n",
    "                    return function_args\n",
    "            else:\n",
    "                raise ValueError(\"No function call found in the response.\")\n",
    "        except (ValidationError, ValueError) as e:\n",
    "            print(f\"[Retry {attempt + 1}] Validation error: {e}. Retrying...\")\n",
    "            if attempt < max_retries - 1:\n",
    "                prompt += f\"\\nPlease provide the missing information. Please ensure all required fields are filled. {json.dumps(schema)}\"\n",
    "                time.sleep(retry_delay)\n",
    "            else:\n",
    "                raise\n",
    "    raise RuntimeError(\"Max retries exceeded without a valid response.\")"
   ]
  },
  {
   "cell_type": "code",
   "execution_count": 61,
   "id": "4cbc1058",
   "metadata": {},
   "outputs": [],
   "source": [
    "def mock_crm_api_create_lead(data: dict) -> dict:\n",
    "    \"\"\"Fake API để tạo Lead\"\"\"\n",
    "    print(f\"[MOCK CRM API] Đã tạo Lead: {data.name} - {data.email}\")\n",
    "    return {\"status\": \"success\", \"lead_id\": \"LEAD12345\"}"
   ]
  },
  {
   "cell_type": "code",
   "execution_count": 65,
   "id": "27d266ed",
   "metadata": {},
   "outputs": [
    {
     "name": "stdout",
     "output_type": "stream",
     "text": [
      "name='Nguyễn Văn A' email='a@example.com' phone='0987654321' company='Skymap' notes=None\n",
      "[MOCK CRM API] Đã tạo Lead: Nguyễn Văn A - a@example.com\n",
      "Lead created successfully: {'status': 'success', 'lead_id': 'LEAD12345'}\n"
     ]
    }
   ],
   "source": [
    "user_input = \"Create new Lead with name 'Nguyễn Văn A', email 'a@example.com', phone '0987654321', company 'Skymap'\"\n",
    "\n",
    "lead_data = call_llm_with_retry(PROMPT_CREATE_LEAD + \"\\n\" + user_input, CREATE_LEAD_SCHEMA, validator=Lead)\n",
    "\n",
    "print(lead_data)\n",
    "\n",
    "if lead_data:\n",
    "    result = mock_crm_api_create_lead(lead_data)\n",
    "    print(f\"Lead created successfully: {result}\")\n",
    "else:\n",
    "    print(\"Failed to create lead.\")"
   ]
  },
  {
   "cell_type": "code",
   "execution_count": null,
   "id": "481d4c3a",
   "metadata": {},
   "outputs": [],
   "source": []
  },
  {
   "cell_type": "code",
   "execution_count": null,
   "id": "3dd1ed0c",
   "metadata": {},
   "outputs": [],
   "source": []
  },
  {
   "cell_type": "code",
   "execution_count": null,
   "id": "e88279c3",
   "metadata": {},
   "outputs": [],
   "source": []
  }
 ],
 "metadata": {
  "kernelspec": {
   "display_name": "skymap",
   "language": "python",
   "name": "python3"
  },
  "language_info": {
   "codemirror_mode": {
    "name": "ipython",
    "version": 3
   },
   "file_extension": ".py",
   "mimetype": "text/x-python",
   "name": "python",
   "nbconvert_exporter": "python",
   "pygments_lexer": "ipython3",
   "version": "3.11.13"
  }
 },
 "nbformat": 4,
 "nbformat_minor": 5
}
